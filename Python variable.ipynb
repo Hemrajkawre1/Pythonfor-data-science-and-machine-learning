{
 "cells": [
  {
   "cell_type": "code",
   "execution_count": 3,
   "metadata": {},
   "outputs": [
    {
     "name": "stdout",
     "output_type": "stream",
     "text": [
      "City  Name:City A\n"
     ]
    }
   ],
   "source": [
    "city_name=\"City A\"\n",
    "print(f\"City  Name:{city_name}\")"
   ]
  },
  {
   "cell_type": "code",
   "execution_count": 4,
   "metadata": {},
   "outputs": [
    {
     "name": "stdout",
     "output_type": "stream",
     "text": [
      "Temperature:25°C\n"
     ]
    }
   ],
   "source": [
    "temperature=25\n",
    "print(f\"Temperature:{temperature}°C\")"
   ]
  },
  {
   "cell_type": "code",
   "execution_count": 5,
   "metadata": {},
   "outputs": [
    {
     "name": "stdout",
     "output_type": "stream",
     "text": [
      "Carbon Footprint:500.75kg CO2\n"
     ]
    }
   ],
   "source": [
    "carbon_footprint=500.75\n",
    "print(f\"Carbon Footprint:{carbon_footprint}kg CO2\")"
   ]
  },
  {
   "cell_type": "code",
   "execution_count": 7,
   "metadata": {},
   "outputs": [
    {
     "name": "stdout",
     "output_type": "stream",
     "text": [
      "<class 'float'>\n"
     ]
    }
   ],
   "source": [
    "print(type(carbon_footprint))"
   ]
  },
  {
   "cell_type": "code",
   "execution_count": 8,
   "metadata": {},
   "outputs": [
    {
     "name": "stdout",
     "output_type": "stream",
     "text": [
      "Is the city sustainable? False\n"
     ]
    }
   ],
   "source": [
    "is_sustainable=carbon_footprint<400\n",
    "print(f\"Is the city sustainable? {is_sustainable}\")"
   ]
  },
  {
   "cell_type": "code",
   "execution_count": 9,
   "metadata": {},
   "outputs": [
    {
     "name": "stdout",
     "output_type": "stream",
     "text": [
      "Weekly temperatures:[25, 27, 28, 26, 24, 30, 29]\n"
     ]
    }
   ],
   "source": [
    "weekly_temperatures=[25,27,28,26,24,30,29]\n",
    "print(f\"Weekly temperatures:{weekly_temperatures}\")"
   ]
  },
  {
   "cell_type": "code",
   "execution_count": 10,
   "metadata": {},
   "outputs": [
    {
     "data": {
      "text/plain": [
       "28"
      ]
     },
     "execution_count": 10,
     "metadata": {},
     "output_type": "execute_result"
    }
   ],
   "source": [
    "weekly_temperatures[2]"
   ]
  },
  {
   "cell_type": "code",
   "execution_count": 11,
   "metadata": {},
   "outputs": [
    {
     "name": "stdout",
     "output_type": "stream",
     "text": [
      "City Data:{'name': 'City A', 'temperature': 25, 'carbon_footprint': 500.75, 'is_sustainable': False}\n"
     ]
    }
   ],
   "source": [
    "city_data={\n",
    "    \"name\":\"City A\",\n",
    "    \"temperature\":25,\n",
    "    \"carbon_footprint\":500.75,\n",
    "    \"is_sustainable\":False\n",
    "}\n",
    "print(f\"City Data:{city_data}\")"
   ]
  },
  {
   "cell_type": "code",
   "execution_count": 15,
   "metadata": {},
   "outputs": [
    {
     "name": "stdout",
     "output_type": "stream",
     "text": [
      "City name:City B,temperature:30°C,Carbon Footprint:350.5 kg CO2\n"
     ]
    }
   ],
   "source": [
    "city_name,temperature,carbon_footprint=\"City B\",30,350.50\n",
    "print(f\"City name:{city_name},temperature:{temperature}°C,Carbon Footprint:{carbon_footprint} kg CO2\")"
   ]
  },
  {
   "cell_type": "code",
   "execution_count": null,
   "metadata": {},
   "outputs": [],
   "source": []
  }
 ],
 "metadata": {
  "kernelspec": {
   "display_name": "Python 3",
   "language": "python",
   "name": "python3"
  },
  "language_info": {
   "codemirror_mode": {
    "name": "ipython",
    "version": 3
   },
   "file_extension": ".py",
   "mimetype": "text/x-python",
   "name": "python",
   "nbconvert_exporter": "python",
   "pygments_lexer": "ipython3",
   "version": "3.7.3"
  }
 },
 "nbformat": 4,
 "nbformat_minor": 2
}
